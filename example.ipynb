{
 "cells": [
  {
   "cell_type": "markdown",
   "id": "f082ffe3",
   "metadata": {},
   "source": [
    "These are some examples to show how to use the SDE solver "
   ]
  },
  {
   "cell_type": "markdown",
   "id": "ef2ff5b4",
   "metadata": {},
   "source": [
    "# European option pricing"
   ]
  },
  {
   "cell_type": "markdown",
   "id": "ac644d5d",
   "metadata": {},
   "source": [
    "Hay que hacer lo de poder añadir más parámetros a las funciones"
   ]
  },
  {
   "cell_type": "code",
   "execution_count": 6,
   "id": "d55ef6af",
   "metadata": {},
   "outputs": [],
   "source": [
    "import solver\n",
    "import numpy as np \n",
    "import math \n",
    "import matplotlib.pyplot"
   ]
  },
  {
   "cell_type": "code",
   "execution_count": 14,
   "id": "40758035",
   "metadata": {},
   "outputs": [],
   "source": [
    "r = 0.06\n",
    "sigma = 0.3\n",
    "X_0  =5 \n",
    "num_steps = 100\n",
    "t_0 = 0 \n",
    "t_f = 1 \n",
    "K = 10"
   ]
  },
  {
   "cell_type": "code",
   "execution_count": 13,
   "id": "9f74891e",
   "metadata": {},
   "outputs": [],
   "source": [
    "def a(X,t): \n",
    "    return r*X\n",
    "\n",
    "def b(X,t): \n",
    "    return sigma*X"
   ]
  },
  {
   "cell_type": "code",
   "execution_count": 10,
   "id": "5895aae4",
   "metadata": {},
   "outputs": [],
   "source": [
    "S = solver.euler(a, b, X_0, num_steps, t_0, t_f)"
   ]
  },
  {
   "cell_type": "code",
   "execution_count": 11,
   "id": "81773515",
   "metadata": {},
   "outputs": [],
   "source": [
    "vmax = np.vectorize(max) "
   ]
  },
  {
   "cell_type": "code",
   "execution_count": 15,
   "id": "9305ddf1",
   "metadata": {},
   "outputs": [],
   "source": [
    "op_value = math.exp(-r*(t_f-t_0))*np.mean(vmax(K- S[:, num_steps], 0)) "
   ]
  },
  {
   "cell_type": "code",
   "execution_count": 16,
   "id": "43007379",
   "metadata": {},
   "outputs": [
    {
     "data": {
      "text/plain": [
       "4.4032950870952"
      ]
     },
     "execution_count": 16,
     "metadata": {},
     "output_type": "execute_result"
    }
   ],
   "source": [
    "op_value"
   ]
  },
  {
   "cell_type": "code",
   "execution_count": null,
   "id": "c8f4e626",
   "metadata": {},
   "outputs": [],
   "source": []
  }
 ],
 "metadata": {
  "kernelspec": {
   "display_name": "Python 3 (ipykernel)",
   "language": "python",
   "name": "python3"
  },
  "language_info": {
   "codemirror_mode": {
    "name": "ipython",
    "version": 3
   },
   "file_extension": ".py",
   "mimetype": "text/x-python",
   "name": "python",
   "nbconvert_exporter": "python",
   "pygments_lexer": "ipython3",
   "version": "3.9.13"
  }
 },
 "nbformat": 4,
 "nbformat_minor": 5
}
